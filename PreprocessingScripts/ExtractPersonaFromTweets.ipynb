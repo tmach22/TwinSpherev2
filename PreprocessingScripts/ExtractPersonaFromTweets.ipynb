{
 "cells": [
  {
   "cell_type": "markdown",
   "id": "29025a3d",
   "metadata": {},
   "source": [
    "## Imports"
   ]
  },
  {
   "cell_type": "code",
   "execution_count": 7,
   "id": "f0235604",
   "metadata": {},
   "outputs": [
    {
     "data": {
      "text/plain": [
       "True"
      ]
     },
     "execution_count": 7,
     "metadata": {},
     "output_type": "execute_result"
    }
   ],
   "source": [
    "import pandas as pd\n",
    "import json\n",
    "import time\n",
    "import random\n",
    "import requests\n",
    "from dotenv import load_dotenv\n",
    "import os\n",
    "from tqdm import tqdm\n",
    "load_dotenv()"
   ]
  },
  {
   "cell_type": "markdown",
   "id": "81287e3d",
   "metadata": {},
   "source": [
    "## Configs"
   ]
  },
  {
   "cell_type": "code",
   "execution_count": 8,
   "id": "0320fcf9",
   "metadata": {},
   "outputs": [],
   "source": [
    "#==Config==#\n",
    "OPEN_ROUTER_API_KEY = os.getenv(\"OPEN_ROUTER_API_KEY\")"
   ]
  },
  {
   "cell_type": "markdown",
   "id": "5b11b087",
   "metadata": {},
   "source": [
    "## Load Data"
   ]
  },
  {
   "cell_type": "code",
   "execution_count": 9,
   "id": "aebae13b",
   "metadata": {},
   "outputs": [
    {
     "name": "stderr",
     "output_type": "stream",
     "text": [
      "<>:1: SyntaxWarning: invalid escape sequence '\\P'\n",
      "<>:1: SyntaxWarning: invalid escape sequence '\\P'\n",
      "C:\\Users\\tejas\\AppData\\Local\\Temp\\ipykernel_25012\\3661820383.py:1: SyntaxWarning: invalid escape sequence '\\P'\n",
      "  df = pd.read_csv(\"D:\\Projects\\Personal\\Hackathon\\TwinSpherev2\\PreprocessingScripts\\grouped_concatenated_tweets.csv\")\n"
     ]
    }
   ],
   "source": [
    "df = pd.read_csv(\"D:\\Projects\\Personal\\Hackathon\\TwinSpherev2\\PreprocessingScripts\\grouped_concatenated_tweets.csv\")"
   ]
  },
  {
   "cell_type": "code",
   "execution_count": 10,
   "id": "61096796",
   "metadata": {},
   "outputs": [
    {
     "data": {
      "text/html": [
       "<div>\n",
       "<style scoped>\n",
       "    .dataframe tbody tr th:only-of-type {\n",
       "        vertical-align: middle;\n",
       "    }\n",
       "\n",
       "    .dataframe tbody tr th {\n",
       "        vertical-align: top;\n",
       "    }\n",
       "\n",
       "    .dataframe thead th {\n",
       "        text-align: right;\n",
       "    }\n",
       "</style>\n",
       "<table border=\"1\" class=\"dataframe\">\n",
       "  <thead>\n",
       "    <tr style=\"text-align: right;\">\n",
       "      <th></th>\n",
       "      <th>name</th>\n",
       "      <th>concatenated_tweets</th>\n",
       "    </tr>\n",
       "  </thead>\n",
       "  <tbody>\n",
       "    <tr>\n",
       "      <th>0</th>\n",
       "      <td>10Ronaldinho</td>\n",
       "      <td>b'Baita recep\\xc3\\xa7\\xc3\\xa3o dessa galera an...</td>\n",
       "    </tr>\n",
       "    <tr>\n",
       "      <th>1</th>\n",
       "      <td>10neto</td>\n",
       "      <td>b'@andreolifelipe A\\xc3\\xad brigam com a gente...</td>\n",
       "    </tr>\n",
       "    <tr>\n",
       "      <th>2</th>\n",
       "      <td>143redangel</td>\n",
       "      <td>b'Julie Yap-Daza = huli (To get caught). \\n\\ne...</td>\n",
       "    </tr>\n",
       "    <tr>\n",
       "      <th>3</th>\n",
       "      <td>1LoganHenderson</td>\n",
       "      <td>b\"Check this out! @LOWDNoizez' debut single of...</td>\n",
       "    </tr>\n",
       "    <tr>\n",
       "      <th>4</th>\n",
       "      <td>1victorvaldes</td>\n",
       "      <td>b'\\xd8\\xb4\\xd8\\xb1\\xd9\\x83\\xd8\\xa9 \\xd8\\xa7\\xd...</td>\n",
       "    </tr>\n",
       "  </tbody>\n",
       "</table>\n",
       "</div>"
      ],
      "text/plain": [
       "              name                                concatenated_tweets\n",
       "0     10Ronaldinho  b'Baita recep\\xc3\\xa7\\xc3\\xa3o dessa galera an...\n",
       "1           10neto  b'@andreolifelipe A\\xc3\\xad brigam com a gente...\n",
       "2      143redangel  b'Julie Yap-Daza = huli (To get caught). \\n\\ne...\n",
       "3  1LoganHenderson  b\"Check this out! @LOWDNoizez' debut single of...\n",
       "4    1victorvaldes  b'\\xd8\\xb4\\xd8\\xb1\\xd9\\x83\\xd8\\xa9 \\xd8\\xa7\\xd..."
      ]
     },
     "execution_count": 10,
     "metadata": {},
     "output_type": "execute_result"
    }
   ],
   "source": [
    "df.head()"
   ]
  },
  {
   "cell_type": "markdown",
   "id": "6162c51d",
   "metadata": {},
   "source": [
    "## Helper Functions"
   ]
  },
  {
   "cell_type": "code",
   "execution_count": 11,
   "id": "947e999d",
   "metadata": {},
   "outputs": [],
   "source": [
    "# Prompt Template\n",
    "def build_prompt(tweet_block):\n",
    "    return f\"\"\"\n",
    "Analyze the following Twitter content from a user. Based on their language, common themes, and overall behavior expressed in these tweets, infer the following personality traits. Output the results as a detailed persona paragraph.\n",
    "\n",
    "1.  **Interests/Topics:** List 3-5 keywords or phrases describing their main interests and the topics they discuss.\n",
    "2.  **Communication Style & Tone:** Describe how they express themselves.\n",
    "3.  **General Sentiment:** Describe their overall emotional leaning.\n",
    "4.  **Engagement Patterns:** Describe how they interact on the platform.\n",
    "\n",
    "Ensure your output is a paragraph detailing the persona, using the points mentioned above. There should be nothing apart from this paragraph in your output.\n",
    "\n",
    "The following Content section contains the latest 100 tweets of the user concatenated together as a string and seperated by the seperator \"<ENDOFTWEET>\"\n",
    "\n",
    "Content: {tweet_block}\n",
    "\"\"\".strip()"
   ]
  },
  {
   "cell_type": "code",
   "execution_count": 12,
   "id": "f1ce434e",
   "metadata": {},
   "outputs": [],
   "source": [
    "# Function to call OpenRouter with DeepSeek\n",
    "def query_openrouter(prompt, model=\"deepseek/deepseek-chat-v3-0324:free\"):\n",
    "    response = requests.post(\n",
    "        url=\"https://openrouter.ai/api/v1/chat/completions\",\n",
    "        headers={\n",
    "            \"Authorization\": f\"Bearer {OPEN_ROUTER_API_KEY}\",\n",
    "            \"Content-Type\": \"application/json\"\n",
    "        },\n",
    "        data=json.dumps({\n",
    "            \"model\": \"deepseek/deepseek-chat-v3-0324:free\",\n",
    "            \"messages\": [{\n",
    "                \"role\": \"user\",\n",
    "                \"content\": prompt\n",
    "            }],\n",
    "            \n",
    "        })\n",
    "    )\n",
    "\n",
    "    if response.status_code != 200:\n",
    "        raise Exception(f\"API error {response.status_code}: {response.text}\")\n",
    "\n",
    "    result = response.json()\n",
    "    return result[\"choices\"][0][\"message\"][\"content\"]"
   ]
  },
  {
   "cell_type": "markdown",
   "id": "9f72b057",
   "metadata": {},
   "source": [
    "## Extract persona"
   ]
  },
  {
   "cell_type": "code",
   "execution_count": null,
   "id": "61d1b39b",
   "metadata": {},
   "outputs": [
    {
     "name": "stderr",
     "output_type": "stream",
     "text": [
      "Extracting Personas: 100%|██████████| 10/10 [02:11<00:00, 13.16s/it]"
     ]
    },
    {
     "name": "stdout",
     "output_type": "stream",
     "text": [
      "[{'name': 'LucianoHuck', 'persona': 'This Twitter user presents as an engaged, socially conscious individual with a dynamic and expressive communication style. Their **interests/topics** revolve around **social justice and inequality** (highlighting favelas, Covid-19 disparities), **culture and arts** (support for creative economies, tributes to artists), and **Brazilian politics** (critical discussions on governance, polarization). They frequently share personal experiences, event promotions, and interactions with public figures, suggesting a mix of activism and media engagement. Their **communication style** is warm, enthusiastic, and occasionally playful (using emojis, humor, and hashtags like *#latavelha*), but shifts to earnest and persuasive when addressing serious topics. The **general sentiment** is **optimistic and empathetic**, balancing gratitude, excitement for collaborations, and distress over societal issues. They exhibit high **engagement patterns**, actively retweeting, thanking others, and urging collective action—often linking to articles or events. Their persona blends influencer-like advocacy with grassroots relatability, aiming to educate and mobilize while maintaining a conversational, inclusive tone.'}]\n"
     ]
    },
    {
     "name": "stderr",
     "output_type": "stream",
     "text": [
      "\n"
     ]
    }
   ],
   "source": [
    "output_data = []\n",
    "\n",
    "sampled_df = df.sample(10)\n",
    "\n",
    "# Iterate through rows and generate personas\n",
    "for _, row in tqdm(sampled_df.iterrows(), total=len(sampled_df), desc=\"Extracting Personas\"):\n",
    "    name = row[\"name\"]\n",
    "    tweets = row[\"concatenated_tweets\"]\n",
    "\n",
    "    try:\n",
    "        prompt = build_prompt(tweets)\n",
    "        response = query_openrouter(prompt)\n",
    "        output_data.append({\"name\": name, \"persona\": response})\n",
    "        time.sleep(1.5)  # Avoid rate-limiting\n",
    "    except Exception as e:\n",
    "        print(f\"[!] Error processing {name}: {e}\")\n",
    "        continue"
   ]
  },
  {
   "cell_type": "code",
   "execution_count": 14,
   "id": "bcb4184a",
   "metadata": {},
   "outputs": [
    {
     "name": "stderr",
     "output_type": "stream",
     "text": [
      "<>:1: SyntaxWarning: invalid escape sequence '\\P'\n",
      "<>:1: SyntaxWarning: invalid escape sequence '\\P'\n",
      "C:\\Users\\tejas\\AppData\\Local\\Temp\\ipykernel_25012\\3265518971.py:1: SyntaxWarning: invalid escape sequence '\\P'\n",
      "  pd.DataFrame(output_data).to_csv(\"D:\\Projects\\Personal\\Hackathon\\TwinSpherev2\\Data\\Persona.csv\")\n"
     ]
    }
   ],
   "source": [
    "pd.DataFrame(output_data).to_csv(\"D:\\Projects\\Personal\\Hackathon\\TwinSpherev2\\Data\\Persona.csv\")"
   ]
  },
  {
   "cell_type": "code",
   "execution_count": null,
   "id": "c00a1a7a",
   "metadata": {},
   "outputs": [],
   "source": []
  }
 ],
 "metadata": {
  "kernelspec": {
   "display_name": "venv",
   "language": "python",
   "name": "python3"
  },
  "language_info": {
   "codemirror_mode": {
    "name": "ipython",
    "version": 3
   },
   "file_extension": ".py",
   "mimetype": "text/x-python",
   "name": "python",
   "nbconvert_exporter": "python",
   "pygments_lexer": "ipython3",
   "version": "3.13.5"
  }
 },
 "nbformat": 4,
 "nbformat_minor": 5
}
